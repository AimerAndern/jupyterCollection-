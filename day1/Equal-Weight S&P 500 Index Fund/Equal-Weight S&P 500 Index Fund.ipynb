{
 "cells": [
  {
   "cell_type": "markdown",
   "id": "636254c7",
   "metadata": {},
   "source": [
    "## Import Libraries and APIs"
   ]
  },
  {
   "cell_type": "code",
   "execution_count": 1,
   "id": "ccd57171",
   "metadata": {
    "ExecuteTime": {
     "end_time": "2021-07-15T22:49:12.242952Z",
     "start_time": "2021-07-15T22:49:11.748969Z"
    }
   },
   "outputs": [],
   "source": [
    "import numpy as np #The Numpy numerical computing library\n",
    "import pandas as pd #The Pandas data science library\n",
    "import requests #The requests library for HTTP requests in Python\n",
    "import xlsxwriter #The XlsxWriter libarary for \n",
    "import math"
   ]
  },
  {
   "cell_type": "code",
   "execution_count": 2,
   "id": "2415235e",
   "metadata": {
    "ExecuteTime": {
     "end_time": "2021-07-15T22:49:12.258687Z",
     "start_time": "2021-07-15T22:49:12.243938Z"
    }
   },
   "outputs": [],
   "source": [
    "stocks = pd.read_csv('sp_500_stocks.csv')"
   ]
  },
  {
   "cell_type": "code",
   "execution_count": 3,
   "id": "21b85d19",
   "metadata": {
    "ExecuteTime": {
     "end_time": "2021-07-15T22:49:12.274261Z",
     "start_time": "2021-07-15T22:49:12.259681Z"
    }
   },
   "outputs": [],
   "source": [
    "IEX_CLOUD_API_TOKEN = 'Tpk_059b97af715d417d9f49f50b51b1c448'"
   ]
  },
  {
   "cell_type": "code",
   "execution_count": 4,
   "id": "8c493173",
   "metadata": {
    "ExecuteTime": {
     "end_time": "2021-07-15T22:49:12.524466Z",
     "start_time": "2021-07-15T22:49:12.278376Z"
    }
   },
   "outputs": [
    {
     "data": {
      "text/plain": [
       "{'symbol': 'AAPL',\n",
       " 'companyName': 'Apple Inc',\n",
       " 'primaryExchange': 'NGDS(ST )ALCANEBT LGOKALSEM/RA EQ',\n",
       " 'calculationPrice': 'iexlasttrade',\n",
       " 'open': 0,\n",
       " 'openTime': None,\n",
       " 'openSource': 'iaffloci',\n",
       " 'close': 0,\n",
       " 'closeTime': None,\n",
       " 'closeSource': 'ofliafci',\n",
       " 'high': 0,\n",
       " 'highTime': None,\n",
       " 'highSource': None,\n",
       " 'low': 0,\n",
       " 'lowTime': None,\n",
       " 'lowSource': None,\n",
       " 'latestPrice': 149.507,\n",
       " 'latestSource': 'IEX Last Trade',\n",
       " 'latestTime': 'July 15, 2021',\n",
       " 'latestUpdate': 1684930279427,\n",
       " 'latestVolume': None,\n",
       " 'iexRealtimePrice': 153.935,\n",
       " 'iexRealtimeSize': 103,\n",
       " 'iexLastUpdated': 1629828229636,\n",
       " 'delayedPrice': None,\n",
       " 'delayedPriceTime': None,\n",
       " 'oddLotDelayedPrice': None,\n",
       " 'oddLotDelayedPriceTime': None,\n",
       " 'extendedPrice': None,\n",
       " 'extendedChange': None,\n",
       " 'extendedChangePercent': None,\n",
       " 'extendedPriceTime': None,\n",
       " 'previousClose': 149.72,\n",
       " 'previousVolume': 132856541,\n",
       " 'change': -0.675,\n",
       " 'changePercent': -0.00462,\n",
       " 'volume': None,\n",
       " 'iexMarketPercent': 0.01798579490003522,\n",
       " 'iexVolume': 1946449,\n",
       " 'avgTotalVolume': 86485163,\n",
       " 'iexBidPrice': 0,\n",
       " 'iexBidSize': 0,\n",
       " 'iexAskPrice': 0,\n",
       " 'iexAskSize': 0,\n",
       " 'iexOpen': 153.676,\n",
       " 'iexOpenTime': 1679726667612,\n",
       " 'iexClose': 150.98,\n",
       " 'iexCloseTime': 1673322685762,\n",
       " 'marketCap': 2543902282950,\n",
       " 'peRatio': 34.04,\n",
       " 'week52High': 150.42,\n",
       " 'week52Low': 90.52,\n",
       " 'ytdChange': 0.12636787179389222,\n",
       " 'lastTradeTime': 1691454490909,\n",
       " 'isUSMarketOpen': False}"
      ]
     },
     "execution_count": 4,
     "metadata": {},
     "output_type": "execute_result"
    }
   ],
   "source": [
    "symbol='AAPL'\n",
    "api_url=f'https://sandbox.iexapis.com/stable/stock/{symbol}/quote?token={IEX_CLOUD_API_TOKEN}'\n",
    "data=requests.get(api_url).json()\n",
    "data\n",
    "# api_url"
   ]
  },
  {
   "cell_type": "markdown",
   "id": "6b3a8d5d",
   "metadata": {},
   "source": [
    "## Parsing API Call"
   ]
  },
  {
   "cell_type": "code",
   "execution_count": 5,
   "id": "2c79106d",
   "metadata": {
    "ExecuteTime": {
     "end_time": "2021-07-15T22:49:12.540439Z",
     "start_time": "2021-07-15T22:49:12.525453Z"
    }
   },
   "outputs": [
    {
     "name": "stdout",
     "output_type": "stream",
     "text": [
      "149.507\n",
      "2543902282950\n"
     ]
    }
   ],
   "source": [
    "print(data['latestPrice'])\n",
    "print(data['marketCap'])"
   ]
  },
  {
   "cell_type": "markdown",
   "id": "52e93e74",
   "metadata": {},
   "source": [
    "### Add stocks data to a Pandas DataFrame"
   ]
  },
  {
   "cell_type": "code",
   "execution_count": 6,
   "id": "dc48220c",
   "metadata": {
    "ExecuteTime": {
     "end_time": "2021-07-15T22:49:12.555270Z",
     "start_time": "2021-07-15T22:49:12.541437Z"
    }
   },
   "outputs": [],
   "source": [
    "my_columns = ['Ticker', 'Price', 'Market Capitalization', 'Number Of Shares to Buy']\n",
    "final_dataframe = pd.DataFrame(columns = my_columns)\n",
    "# final_dataframe"
   ]
  },
  {
   "cell_type": "code",
   "execution_count": 7,
   "id": "2ee2465b",
   "metadata": {
    "ExecuteTime": {
     "end_time": "2021-07-15T22:49:12.571261Z",
     "start_time": "2021-07-15T22:49:12.556294Z"
    }
   },
   "outputs": [
    {
     "data": {
      "text/html": [
       "<div>\n",
       "<style scoped>\n",
       "    .dataframe tbody tr th:only-of-type {\n",
       "        vertical-align: middle;\n",
       "    }\n",
       "\n",
       "    .dataframe tbody tr th {\n",
       "        vertical-align: top;\n",
       "    }\n",
       "\n",
       "    .dataframe thead th {\n",
       "        text-align: right;\n",
       "    }\n",
       "</style>\n",
       "<table border=\"1\" class=\"dataframe\">\n",
       "  <thead>\n",
       "    <tr style=\"text-align: right;\">\n",
       "      <th></th>\n",
       "      <th>Ticker</th>\n",
       "      <th>Price</th>\n",
       "      <th>Market Capitalization</th>\n",
       "      <th>Number Of Shares to Buy</th>\n",
       "    </tr>\n",
       "  </thead>\n",
       "  <tbody>\n",
       "    <tr>\n",
       "      <th>0</th>\n",
       "      <td>AAPL</td>\n",
       "      <td>149.507</td>\n",
       "      <td>2543902282950</td>\n",
       "      <td>N/A</td>\n",
       "    </tr>\n",
       "  </tbody>\n",
       "</table>\n",
       "</div>"
      ],
      "text/plain": [
       "  Ticker    Price Market Capitalization Number Of Shares to Buy\n",
       "0   AAPL  149.507         2543902282950                     N/A"
      ]
     },
     "execution_count": 7,
     "metadata": {},
     "output_type": "execute_result"
    }
   ],
   "source": [
    "final_dataframe = final_dataframe.append(pd.Series(['AAPL',\n",
    "                                                    data['latestPrice'],\n",
    "                                                    data['marketCap'],\n",
    "                                                    'N/A'],\n",
    "                                                    index = my_columns),\n",
    "                                         ignore_index=True)\n",
    "final_dataframe"
   ]
  },
  {
   "cell_type": "code",
   "execution_count": 8,
   "id": "ba9112da",
   "metadata": {
    "ExecuteTime": {
     "end_time": "2021-07-15T22:50:59.090829Z",
     "start_time": "2021-07-15T22:49:12.573031Z"
    }
   },
   "outputs": [],
   "source": [
    "final_dataframe = pd.DataFrame(columns = my_columns)\n",
    "for symbol in stocks['Ticker']:\n",
    "    api_url=f'https://sandbox.iexapis.com/stable/stock/{symbol}/quote?token={IEX_CLOUD_API_TOKEN}'\n",
    "    data =requests.get(api_url).json()\n",
    "    final_dataframe = final_dataframe.append(pd.Series([symbol,\n",
    "                                                    data['latestPrice'],\n",
    "                                                    data['marketCap'],\n",
    "                                                    'N/A'],\n",
    "                                                    index = my_columns),\n",
    "                                         ignore_index=True)"
   ]
  },
  {
   "cell_type": "code",
   "execution_count": 9,
   "id": "17c9a72e",
   "metadata": {
    "ExecuteTime": {
     "end_time": "2021-07-15T22:50:59.121548Z",
     "start_time": "2021-07-15T22:50:59.093807Z"
    }
   },
   "outputs": [
    {
     "data": {
      "text/html": [
       "<div>\n",
       "<style scoped>\n",
       "    .dataframe tbody tr th:only-of-type {\n",
       "        vertical-align: middle;\n",
       "    }\n",
       "\n",
       "    .dataframe tbody tr th {\n",
       "        vertical-align: top;\n",
       "    }\n",
       "\n",
       "    .dataframe thead th {\n",
       "        text-align: right;\n",
       "    }\n",
       "</style>\n",
       "<table border=\"1\" class=\"dataframe\">\n",
       "  <thead>\n",
       "    <tr style=\"text-align: right;\">\n",
       "      <th></th>\n",
       "      <th>Ticker</th>\n",
       "      <th>Price</th>\n",
       "      <th>Market Capitalization</th>\n",
       "      <th>Number Of Shares to Buy</th>\n",
       "    </tr>\n",
       "  </thead>\n",
       "  <tbody>\n",
       "    <tr>\n",
       "      <th>0</th>\n",
       "      <td>A</td>\n",
       "      <td>150.100</td>\n",
       "      <td>45291571248</td>\n",
       "      <td>N/A</td>\n",
       "    </tr>\n",
       "    <tr>\n",
       "      <th>1</th>\n",
       "      <td>AAL</td>\n",
       "      <td>21.400</td>\n",
       "      <td>13235073017</td>\n",
       "      <td>N/A</td>\n",
       "    </tr>\n",
       "    <tr>\n",
       "      <th>2</th>\n",
       "      <td>AAP</td>\n",
       "      <td>219.540</td>\n",
       "      <td>14214179621</td>\n",
       "      <td>N/A</td>\n",
       "    </tr>\n",
       "    <tr>\n",
       "      <th>3</th>\n",
       "      <td>AAPL</td>\n",
       "      <td>154.139</td>\n",
       "      <td>2532120676680</td>\n",
       "      <td>N/A</td>\n",
       "    </tr>\n",
       "    <tr>\n",
       "      <th>4</th>\n",
       "      <td>ABBV</td>\n",
       "      <td>119.120</td>\n",
       "      <td>216613425645</td>\n",
       "      <td>N/A</td>\n",
       "    </tr>\n",
       "    <tr>\n",
       "      <th>...</th>\n",
       "      <td>...</td>\n",
       "      <td>...</td>\n",
       "      <td>...</td>\n",
       "      <td>...</td>\n",
       "    </tr>\n",
       "    <tr>\n",
       "      <th>500</th>\n",
       "      <td>YUM</td>\n",
       "      <td>121.460</td>\n",
       "      <td>36076125065</td>\n",
       "      <td>N/A</td>\n",
       "    </tr>\n",
       "    <tr>\n",
       "      <th>501</th>\n",
       "      <td>ZBH</td>\n",
       "      <td>156.400</td>\n",
       "      <td>32939371090</td>\n",
       "      <td>N/A</td>\n",
       "    </tr>\n",
       "    <tr>\n",
       "      <th>502</th>\n",
       "      <td>ZBRA</td>\n",
       "      <td>544.100</td>\n",
       "      <td>28743272103</td>\n",
       "      <td>N/A</td>\n",
       "    </tr>\n",
       "    <tr>\n",
       "      <th>503</th>\n",
       "      <td>ZION</td>\n",
       "      <td>53.900</td>\n",
       "      <td>8747901467</td>\n",
       "      <td>N/A</td>\n",
       "    </tr>\n",
       "    <tr>\n",
       "      <th>504</th>\n",
       "      <td>ZTS</td>\n",
       "      <td>209.570</td>\n",
       "      <td>98687272222</td>\n",
       "      <td>N/A</td>\n",
       "    </tr>\n",
       "  </tbody>\n",
       "</table>\n",
       "<p>505 rows × 4 columns</p>\n",
       "</div>"
      ],
      "text/plain": [
       "    Ticker    Price Market Capitalization Number Of Shares to Buy\n",
       "0        A  150.100           45291571248                     N/A\n",
       "1      AAL   21.400           13235073017                     N/A\n",
       "2      AAP  219.540           14214179621                     N/A\n",
       "3     AAPL  154.139         2532120676680                     N/A\n",
       "4     ABBV  119.120          216613425645                     N/A\n",
       "..     ...      ...                   ...                     ...\n",
       "500    YUM  121.460           36076125065                     N/A\n",
       "501    ZBH  156.400           32939371090                     N/A\n",
       "502   ZBRA  544.100           28743272103                     N/A\n",
       "503   ZION   53.900            8747901467                     N/A\n",
       "504    ZTS  209.570           98687272222                     N/A\n",
       "\n",
       "[505 rows x 4 columns]"
      ]
     },
     "execution_count": 9,
     "metadata": {},
     "output_type": "execute_result"
    }
   ],
   "source": [
    "final_dataframe"
   ]
  },
  {
   "cell_type": "markdown",
   "id": "5a772831",
   "metadata": {},
   "source": [
    "### Optimization with Batch API Calls"
   ]
  },
  {
   "cell_type": "code",
   "execution_count": 10,
   "id": "f7784d65",
   "metadata": {
    "ExecuteTime": {
     "end_time": "2021-07-15T22:50:59.137595Z",
     "start_time": "2021-07-15T22:50:59.122546Z"
    }
   },
   "outputs": [],
   "source": [
    "def chunks(lst,n):\n",
    "    for i in range(0,len(lst),n):\n",
    "        yield lst[i:i+n]"
   ]
  },
  {
   "cell_type": "code",
   "execution_count": 11,
   "id": "893cb11f",
   "metadata": {
    "ExecuteTime": {
     "end_time": "2021-07-15T22:51:01.981716Z",
     "start_time": "2021-07-15T22:50:59.138342Z"
    }
   },
   "outputs": [
    {
     "data": {
      "text/html": [
       "<div>\n",
       "<style scoped>\n",
       "    .dataframe tbody tr th:only-of-type {\n",
       "        vertical-align: middle;\n",
       "    }\n",
       "\n",
       "    .dataframe tbody tr th {\n",
       "        vertical-align: top;\n",
       "    }\n",
       "\n",
       "    .dataframe thead th {\n",
       "        text-align: right;\n",
       "    }\n",
       "</style>\n",
       "<table border=\"1\" class=\"dataframe\">\n",
       "  <thead>\n",
       "    <tr style=\"text-align: right;\">\n",
       "      <th></th>\n",
       "      <th>Ticker</th>\n",
       "      <th>Price</th>\n",
       "      <th>Market Capitalization</th>\n",
       "      <th>Number Of Shares to Buy</th>\n",
       "    </tr>\n",
       "  </thead>\n",
       "  <tbody>\n",
       "    <tr>\n",
       "      <th>0</th>\n",
       "      <td>A</td>\n",
       "      <td>153.220</td>\n",
       "      <td>46454798508</td>\n",
       "      <td>N/A</td>\n",
       "    </tr>\n",
       "    <tr>\n",
       "      <th>1</th>\n",
       "      <td>AAL</td>\n",
       "      <td>20.570</td>\n",
       "      <td>13674772041</td>\n",
       "      <td>N/A</td>\n",
       "    </tr>\n",
       "    <tr>\n",
       "      <th>2</th>\n",
       "      <td>AAP</td>\n",
       "      <td>217.270</td>\n",
       "      <td>14035549182</td>\n",
       "      <td>N/A</td>\n",
       "    </tr>\n",
       "    <tr>\n",
       "      <th>3</th>\n",
       "      <td>AAPL</td>\n",
       "      <td>150.291</td>\n",
       "      <td>2581307793427</td>\n",
       "      <td>N/A</td>\n",
       "    </tr>\n",
       "    <tr>\n",
       "      <th>4</th>\n",
       "      <td>ABBV</td>\n",
       "      <td>120.440</td>\n",
       "      <td>208760681033</td>\n",
       "      <td>N/A</td>\n",
       "    </tr>\n",
       "    <tr>\n",
       "      <th>...</th>\n",
       "      <td>...</td>\n",
       "      <td>...</td>\n",
       "      <td>...</td>\n",
       "      <td>...</td>\n",
       "    </tr>\n",
       "    <tr>\n",
       "      <th>500</th>\n",
       "      <td>YUM</td>\n",
       "      <td>117.260</td>\n",
       "      <td>36108312087</td>\n",
       "      <td>N/A</td>\n",
       "    </tr>\n",
       "    <tr>\n",
       "      <th>501</th>\n",
       "      <td>ZBH</td>\n",
       "      <td>160.300</td>\n",
       "      <td>32643266057</td>\n",
       "      <td>N/A</td>\n",
       "    </tr>\n",
       "    <tr>\n",
       "      <th>502</th>\n",
       "      <td>ZBRA</td>\n",
       "      <td>527.450</td>\n",
       "      <td>28425442197</td>\n",
       "      <td>N/A</td>\n",
       "    </tr>\n",
       "    <tr>\n",
       "      <th>503</th>\n",
       "      <td>ZION</td>\n",
       "      <td>52.600</td>\n",
       "      <td>8686391129</td>\n",
       "      <td>N/A</td>\n",
       "    </tr>\n",
       "    <tr>\n",
       "      <th>504</th>\n",
       "      <td>ZTS</td>\n",
       "      <td>200.820</td>\n",
       "      <td>97235385102</td>\n",
       "      <td>N/A</td>\n",
       "    </tr>\n",
       "  </tbody>\n",
       "</table>\n",
       "<p>505 rows × 4 columns</p>\n",
       "</div>"
      ],
      "text/plain": [
       "    Ticker    Price Market Capitalization Number Of Shares to Buy\n",
       "0        A  153.220           46454798508                     N/A\n",
       "1      AAL   20.570           13674772041                     N/A\n",
       "2      AAP  217.270           14035549182                     N/A\n",
       "3     AAPL  150.291         2581307793427                     N/A\n",
       "4     ABBV  120.440          208760681033                     N/A\n",
       "..     ...      ...                   ...                     ...\n",
       "500    YUM  117.260           36108312087                     N/A\n",
       "501    ZBH  160.300           32643266057                     N/A\n",
       "502   ZBRA  527.450           28425442197                     N/A\n",
       "503   ZION   52.600            8686391129                     N/A\n",
       "504    ZTS  200.820           97235385102                     N/A\n",
       "\n",
       "[505 rows x 4 columns]"
      ]
     },
     "execution_count": 11,
     "metadata": {},
     "output_type": "execute_result"
    }
   ],
   "source": [
    "symbol_groups=list(chunks(stocks['Ticker'],100))\n",
    "symbol_strings =[]\n",
    "for i in range(0,len(symbol_groups)):\n",
    "    symbol_strings.append(','.join(symbol_groups[i]))\n",
    "    \n",
    "final_dataframe = pd.DataFrame(columns = my_columns)\n",
    "\n",
    "for symbol_string in symbol_strings:\n",
    "    \n",
    "    batch_api_call_url = f'https://sandbox.iexapis.com/stable/stock/market/batch/?types=quote&symbols={symbol_string}&token={IEX_CLOUD_API_TOKEN}'\n",
    "    data = requests.get(batch_api_call_url).json()\n",
    "    for symbol in symbol_string.split(','):\n",
    "        final_dataframe =final_dataframe.append(pd.Series([symbol,\n",
    "                                                          data[symbol]['quote']['latestPrice'],\n",
    "                                                          data[symbol]['quote']['marketCap'],\n",
    "                                                          'N/A'],\n",
    "                                                          index=my_columns),\n",
    "                                               ignore_index=True)\n",
    "final_dataframe"
   ]
  },
  {
   "cell_type": "markdown",
   "id": "7eb73bd7",
   "metadata": {},
   "source": [
    "### Calculate how many number of shares to buy"
   ]
  },
  {
   "cell_type": "code",
   "execution_count": 12,
   "id": "6c8dddb2",
   "metadata": {
    "ExecuteTime": {
     "end_time": "2021-07-15T22:51:33.847305Z",
     "start_time": "2021-07-15T22:51:01.982713Z"
    }
   },
   "outputs": [
    {
     "name": "stdout",
     "output_type": "stream",
     "text": [
      "Enter the value of your portfolio100000\n"
     ]
    }
   ],
   "source": [
    "portfolio_size= input(\"Enter the value of your portfolio\")\n",
    "\n",
    "try:\n",
    "    val=float(portfolio_size)\n",
    "except ValueError:\n",
    "    print(\"That's not a number! \\n Try again:\")\n",
    "    portfolio_size = input(\"Enter the value of your portfolio:\")"
   ]
  },
  {
   "cell_type": "code",
   "execution_count": 13,
   "id": "1a504a4e",
   "metadata": {
    "ExecuteTime": {
     "end_time": "2021-07-15T22:51:33.955228Z",
     "start_time": "2021-07-15T22:51:33.848292Z"
    }
   },
   "outputs": [
    {
     "data": {
      "text/html": [
       "<div>\n",
       "<style scoped>\n",
       "    .dataframe tbody tr th:only-of-type {\n",
       "        vertical-align: middle;\n",
       "    }\n",
       "\n",
       "    .dataframe tbody tr th {\n",
       "        vertical-align: top;\n",
       "    }\n",
       "\n",
       "    .dataframe thead th {\n",
       "        text-align: right;\n",
       "    }\n",
       "</style>\n",
       "<table border=\"1\" class=\"dataframe\">\n",
       "  <thead>\n",
       "    <tr style=\"text-align: right;\">\n",
       "      <th></th>\n",
       "      <th>Ticker</th>\n",
       "      <th>Price</th>\n",
       "      <th>Market Capitalization</th>\n",
       "      <th>Number Of Shares to Buy</th>\n",
       "    </tr>\n",
       "  </thead>\n",
       "  <tbody>\n",
       "    <tr>\n",
       "      <th>0</th>\n",
       "      <td>A</td>\n",
       "      <td>153.220</td>\n",
       "      <td>46454798508</td>\n",
       "      <td>1</td>\n",
       "    </tr>\n",
       "    <tr>\n",
       "      <th>1</th>\n",
       "      <td>AAL</td>\n",
       "      <td>20.570</td>\n",
       "      <td>13674772041</td>\n",
       "      <td>9</td>\n",
       "    </tr>\n",
       "    <tr>\n",
       "      <th>2</th>\n",
       "      <td>AAP</td>\n",
       "      <td>217.270</td>\n",
       "      <td>14035549182</td>\n",
       "      <td>0</td>\n",
       "    </tr>\n",
       "    <tr>\n",
       "      <th>3</th>\n",
       "      <td>AAPL</td>\n",
       "      <td>150.291</td>\n",
       "      <td>2581307793427</td>\n",
       "      <td>1</td>\n",
       "    </tr>\n",
       "    <tr>\n",
       "      <th>4</th>\n",
       "      <td>ABBV</td>\n",
       "      <td>120.440</td>\n",
       "      <td>208760681033</td>\n",
       "      <td>1</td>\n",
       "    </tr>\n",
       "    <tr>\n",
       "      <th>...</th>\n",
       "      <td>...</td>\n",
       "      <td>...</td>\n",
       "      <td>...</td>\n",
       "      <td>...</td>\n",
       "    </tr>\n",
       "    <tr>\n",
       "      <th>500</th>\n",
       "      <td>YUM</td>\n",
       "      <td>117.260</td>\n",
       "      <td>36108312087</td>\n",
       "      <td>1</td>\n",
       "    </tr>\n",
       "    <tr>\n",
       "      <th>501</th>\n",
       "      <td>ZBH</td>\n",
       "      <td>160.300</td>\n",
       "      <td>32643266057</td>\n",
       "      <td>1</td>\n",
       "    </tr>\n",
       "    <tr>\n",
       "      <th>502</th>\n",
       "      <td>ZBRA</td>\n",
       "      <td>527.450</td>\n",
       "      <td>28425442197</td>\n",
       "      <td>0</td>\n",
       "    </tr>\n",
       "    <tr>\n",
       "      <th>503</th>\n",
       "      <td>ZION</td>\n",
       "      <td>52.600</td>\n",
       "      <td>8686391129</td>\n",
       "      <td>3</td>\n",
       "    </tr>\n",
       "    <tr>\n",
       "      <th>504</th>\n",
       "      <td>ZTS</td>\n",
       "      <td>200.820</td>\n",
       "      <td>97235385102</td>\n",
       "      <td>N/A</td>\n",
       "    </tr>\n",
       "  </tbody>\n",
       "</table>\n",
       "<p>505 rows × 4 columns</p>\n",
       "</div>"
      ],
      "text/plain": [
       "    Ticker    Price Market Capitalization Number Of Shares to Buy\n",
       "0        A  153.220           46454798508                       1\n",
       "1      AAL   20.570           13674772041                       9\n",
       "2      AAP  217.270           14035549182                       0\n",
       "3     AAPL  150.291         2581307793427                       1\n",
       "4     ABBV  120.440          208760681033                       1\n",
       "..     ...      ...                   ...                     ...\n",
       "500    YUM  117.260           36108312087                       1\n",
       "501    ZBH  160.300           32643266057                       1\n",
       "502   ZBRA  527.450           28425442197                       0\n",
       "503   ZION   52.600            8686391129                       3\n",
       "504    ZTS  200.820           97235385102                     N/A\n",
       "\n",
       "[505 rows x 4 columns]"
      ]
     },
     "execution_count": 13,
     "metadata": {},
     "output_type": "execute_result"
    }
   ],
   "source": [
    "position_size = float(portfolio_size)/len(final_dataframe.index)\n",
    "for i in range(0, len(final_dataframe['Ticker'])-1):\n",
    "    final_dataframe.loc[i,'Number Of Shares to Buy'] = math.floor(position_size/final_dataframe['Price'][i])\n",
    "final_dataframe"
   ]
  },
  {
   "cell_type": "markdown",
   "id": "3f82687b",
   "metadata": {},
   "source": [
    "### Formatting Excel Output"
   ]
  },
  {
   "cell_type": "code",
   "execution_count": 14,
   "id": "4a8784ed",
   "metadata": {
    "ExecuteTime": {
     "end_time": "2021-07-15T22:51:33.986772Z",
     "start_time": "2021-07-15T22:51:33.956150Z"
    }
   },
   "outputs": [],
   "source": [
    "#initializing XlsxWriter Object\n",
    "writer = pd.ExcelWriter('recommended_trades.xlsx',engine='xlsxwriter')\n",
    "final_dataframe.to_excel(writer, sheet_name='Recommended Trades', index = False)"
   ]
  },
  {
   "cell_type": "markdown",
   "id": "27191170",
   "metadata": {},
   "source": [
    "#### Arguments required to format `.xlsx` file"
   ]
  },
  {
   "cell_type": "code",
   "execution_count": 15,
   "id": "8746413e",
   "metadata": {
    "ExecuteTime": {
     "end_time": "2021-07-15T22:51:34.002766Z",
     "start_time": "2021-07-15T22:51:33.987769Z"
    }
   },
   "outputs": [],
   "source": [
    "background_color = '#0a0a23'\n",
    "font_color = '#ffffff'\n",
    "\n",
    "string_format = writer.book.add_format(\n",
    "        {\n",
    "            'font_color': font_color,\n",
    "            'bg_color': background_color,\n",
    "            'border': 1\n",
    "        }\n",
    "    )\n",
    "\n",
    "dollar_format = writer.book.add_format(\n",
    "        {\n",
    "            'num_format':'$0.00',\n",
    "            'font_color': font_color,\n",
    "            'bg_color': background_color,\n",
    "            'border': 1\n",
    "        }\n",
    "    )\n",
    "\n",
    "integer_format = writer.book.add_format(\n",
    "        {\n",
    "            'num_format':'0',\n",
    "            'font_color': font_color,\n",
    "            'bg_color': background_color,\n",
    "            'border': 1\n",
    "        }\n",
    "    )"
   ]
  },
  {
   "cell_type": "code",
   "execution_count": 16,
   "id": "196a4058",
   "metadata": {
    "ExecuteTime": {
     "end_time": "2021-07-15T22:51:34.017684Z",
     "start_time": "2021-07-15T22:51:34.003754Z"
    }
   },
   "outputs": [],
   "source": [
    "column_formats = {\n",
    "    'A': ['Ticker', string_format],\n",
    "    'B': ['Price', dollar_format],\n",
    "    'C': ['Market Capitalization', dollar_format],\n",
    "    'D': ['Number Of Shares to Buy', integer_format],\n",
    "}\n",
    "for column in column_formats.keys():\n",
    "    writer.sheets['Recommended Trades'].set_column(f'{column}:{column}',20,column_formats[column][1])\n",
    "    writer.sheets['Recommended Trades'].write(f'{column}1',column_formats[column][0],string_format)"
   ]
  },
  {
   "cell_type": "code",
   "execution_count": 17,
   "id": "a7ac8b4c",
   "metadata": {
    "ExecuteTime": {
     "end_time": "2021-07-15T22:51:34.094993Z",
     "start_time": "2021-07-15T22:51:34.018680Z"
    }
   },
   "outputs": [],
   "source": [
    "writer.save()"
   ]
  }
 ],
 "metadata": {
  "kernelspec": {
   "display_name": "Python 3",
   "language": "python",
   "name": "python3"
  },
  "language_info": {
   "codemirror_mode": {
    "name": "ipython",
    "version": 3
   },
   "file_extension": ".py",
   "mimetype": "text/x-python",
   "name": "python",
   "nbconvert_exporter": "python",
   "pygments_lexer": "ipython3",
   "version": "3.8.8"
  }
 },
 "nbformat": 4,
 "nbformat_minor": 5
}
