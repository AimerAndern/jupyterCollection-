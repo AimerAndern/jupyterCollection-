{
  "nbformat": 4,
  "nbformat_minor": 0,
  "metadata": {
    "colab": {
      "name": "Heart Disease(NN).ipynb",
      "provenance": []
    },
    "kernelspec": {
      "name": "python3",
      "display_name": "Python 3"
    },
    "language_info": {
      "name": "python"
    }
  },
  "cells": [
    {
      "cell_type": "code",
      "metadata": {
        "id": "iuSHJyOpEr0k"
      },
      "source": [
        "%tensorflow_version 2.x\n",
        "\n",
        "import tensorflow as tf\n",
        "import pandas as pd\n",
        "\n",
        "from tensorflow import keras\n",
        "\n",
        "import numpy as np\n",
        "import matplotlib.pyplot as plt\n",
        "from google.colab import files\n",
        "import io\n",
        "from sklearn.model_selection import train_test_split\n",
        "from sklearn.metrics import accuracy_score\n",
        "\n"
      ],
      "execution_count": 12,
      "outputs": []
    },
    {
      "cell_type": "code",
      "metadata": {
        "id": "69AZnzr7Sh7P",
        "colab": {
          "resources": {
            "http://localhost:8080/nbextensions/google.colab/files.js": {
              "data": "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",
              "ok": true,
              "headers": [
                [
                  "content-type",
                  "application/javascript"
                ]
              ],
              "status": 200,
              "status_text": ""
            }
          },
          "base_uri": "https://localhost:8080/",
          "height": 91
        },
        "outputId": "9e338f03-3797-4019-fa4d-995f5757bbbb"
      },
      "source": [
        "\n",
        "\n",
        "uploaded = files.upload()\n",
        "\n",
        "for fn in uploaded.keys():\n",
        "  print('User uploaded file \"{name}\" with length {length} bytes'.format(\n",
        "      name=fn, length=len(uploaded[fn])))\n",
        "  \n",
        "\n",
        "df = pd.read_csv(io.BytesIO(uploaded['heart.csv']))"
      ],
      "execution_count": 13,
      "outputs": [
        {
          "output_type": "display_data",
          "data": {
            "text/html": [
              "\n",
              "     <input type=\"file\" id=\"files-77fc54d3-e569-4a00-981b-b803efefc5d4\" name=\"files[]\" multiple disabled\n",
              "        style=\"border:none\" />\n",
              "     <output id=\"result-77fc54d3-e569-4a00-981b-b803efefc5d4\">\n",
              "      Upload widget is only available when the cell has been executed in the\n",
              "      current browser session. Please rerun this cell to enable.\n",
              "      </output>\n",
              "      <script src=\"/nbextensions/google.colab/files.js\"></script> "
            ],
            "text/plain": [
              "<IPython.core.display.HTML object>"
            ]
          },
          "metadata": {
            "tags": []
          }
        },
        {
          "output_type": "stream",
          "text": [
            "Saving heart.csv to heart (1).csv\n",
            "User uploaded file \"heart.csv\" with length 11328 bytes\n"
          ],
          "name": "stdout"
        }
      ]
    },
    {
      "cell_type": "code",
      "metadata": {
        "id": "uugmNAihUBzd"
      },
      "source": [
        "#train and test set preparation\n",
        "X = df.drop(['target'], axis=1)\n",
        "y=df['target']\n",
        "X_train,X_test,y_train,y_test=train_test_split(\n",
        "    X,y,test_size=0.2, random_state=0)\n"
      ],
      "execution_count": 14,
      "outputs": []
    },
    {
      "cell_type": "code",
      "metadata": {
        "colab": {
          "base_uri": "https://localhost:8080/"
        },
        "id": "rqbu8sbjXtkf",
        "outputId": "6da21762-b35b-4a1f-b596-cb11c2cc8925"
      },
      "source": [
        "#model\n",
        "model = keras.Sequential([\n",
        "    keras.layers.Flatten(input_shape=(13,)),\n",
        "    keras.layers.Dense(20, activation='relu'),\n",
        "\t  keras.layers.Dense(25, activation='relu'),\n",
        "    keras.layers.Dense(10, activation='relu'),\n",
        "    keras.layers.Dense(1, activation='sigmoid'),\n",
        "])\n",
        "model.compile(optimizer='adam',\n",
        "              loss = 'binary_crossentropy',\n",
        "              metrics=['accuracy'])\n",
        "\n",
        "model.fit(X_train, y_train, epochs=50, batch_size=1)\n"
      ],
      "execution_count": 15,
      "outputs": [
        {
          "output_type": "stream",
          "text": [
            "Epoch 1/50\n",
            "272/272 [==============================] - 1s 1ms/step - loss: 2.7378 - accuracy: 0.5000\n",
            "Epoch 2/50\n",
            "272/272 [==============================] - 0s 2ms/step - loss: 0.8745 - accuracy: 0.6324\n",
            "Epoch 3/50\n",
            "272/272 [==============================] - 0s 1ms/step - loss: 0.9630 - accuracy: 0.6103\n",
            "Epoch 4/50\n",
            "272/272 [==============================] - 0s 1ms/step - loss: 0.7329 - accuracy: 0.6691\n",
            "Epoch 5/50\n",
            "272/272 [==============================] - 0s 1ms/step - loss: 0.8625 - accuracy: 0.6140\n",
            "Epoch 6/50\n",
            "272/272 [==============================] - 0s 1ms/step - loss: 0.7327 - accuracy: 0.6544\n",
            "Epoch 7/50\n",
            "272/272 [==============================] - 0s 1ms/step - loss: 0.7515 - accuracy: 0.6949\n",
            "Epoch 8/50\n",
            "272/272 [==============================] - 0s 1ms/step - loss: 0.6965 - accuracy: 0.6838\n",
            "Epoch 9/50\n",
            "272/272 [==============================] - 0s 1ms/step - loss: 0.6565 - accuracy: 0.6875\n",
            "Epoch 10/50\n",
            "272/272 [==============================] - 0s 1ms/step - loss: 0.6085 - accuracy: 0.7132\n",
            "Epoch 11/50\n",
            "272/272 [==============================] - 0s 1ms/step - loss: 0.6393 - accuracy: 0.7022\n",
            "Epoch 12/50\n",
            "272/272 [==============================] - 0s 1ms/step - loss: 0.6085 - accuracy: 0.7279\n",
            "Epoch 13/50\n",
            "272/272 [==============================] - 0s 1ms/step - loss: 0.5863 - accuracy: 0.7206\n",
            "Epoch 14/50\n",
            "272/272 [==============================] - 0s 1ms/step - loss: 0.5845 - accuracy: 0.7463\n",
            "Epoch 15/50\n",
            "272/272 [==============================] - 0s 1ms/step - loss: 0.5195 - accuracy: 0.7169\n",
            "Epoch 16/50\n",
            "272/272 [==============================] - 0s 1ms/step - loss: 0.5346 - accuracy: 0.7463\n",
            "Epoch 17/50\n",
            "272/272 [==============================] - 0s 2ms/step - loss: 0.5456 - accuracy: 0.7390\n",
            "Epoch 18/50\n",
            "272/272 [==============================] - 0s 1ms/step - loss: 0.5096 - accuracy: 0.7610\n",
            "Epoch 19/50\n",
            "272/272 [==============================] - 0s 2ms/step - loss: 0.5584 - accuracy: 0.7537\n",
            "Epoch 20/50\n",
            "272/272 [==============================] - 0s 2ms/step - loss: 0.4987 - accuracy: 0.7721\n",
            "Epoch 21/50\n",
            "272/272 [==============================] - 0s 2ms/step - loss: 0.5206 - accuracy: 0.7684\n",
            "Epoch 22/50\n",
            "272/272 [==============================] - 0s 2ms/step - loss: 0.4993 - accuracy: 0.7537\n",
            "Epoch 23/50\n",
            "272/272 [==============================] - 0s 2ms/step - loss: 0.4762 - accuracy: 0.7684\n",
            "Epoch 24/50\n",
            "272/272 [==============================] - 0s 2ms/step - loss: 0.4698 - accuracy: 0.7904\n",
            "Epoch 25/50\n",
            "272/272 [==============================] - 0s 2ms/step - loss: 0.4339 - accuracy: 0.7868\n",
            "Epoch 26/50\n",
            "272/272 [==============================] - 0s 2ms/step - loss: 0.5071 - accuracy: 0.7463\n",
            "Epoch 27/50\n",
            "272/272 [==============================] - 0s 1ms/step - loss: 0.5067 - accuracy: 0.7647\n",
            "Epoch 28/50\n",
            "272/272 [==============================] - 0s 2ms/step - loss: 0.4965 - accuracy: 0.7684\n",
            "Epoch 29/50\n",
            "272/272 [==============================] - 0s 2ms/step - loss: 0.4716 - accuracy: 0.7721\n",
            "Epoch 30/50\n",
            "272/272 [==============================] - 0s 1ms/step - loss: 0.4980 - accuracy: 0.7684\n",
            "Epoch 31/50\n",
            "272/272 [==============================] - 0s 2ms/step - loss: 0.4940 - accuracy: 0.7537\n",
            "Epoch 32/50\n",
            "272/272 [==============================] - 0s 1ms/step - loss: 0.5198 - accuracy: 0.7279\n",
            "Epoch 33/50\n",
            "272/272 [==============================] - 0s 1ms/step - loss: 0.4703 - accuracy: 0.7794\n",
            "Epoch 34/50\n",
            "272/272 [==============================] - 0s 1ms/step - loss: 0.4725 - accuracy: 0.7721\n",
            "Epoch 35/50\n",
            "272/272 [==============================] - 0s 1ms/step - loss: 0.4743 - accuracy: 0.7794\n",
            "Epoch 36/50\n",
            "272/272 [==============================] - 0s 2ms/step - loss: 0.4586 - accuracy: 0.7831\n",
            "Epoch 37/50\n",
            "272/272 [==============================] - 0s 1ms/step - loss: 0.4956 - accuracy: 0.7757\n",
            "Epoch 38/50\n",
            "272/272 [==============================] - 0s 1ms/step - loss: 0.4570 - accuracy: 0.7721\n",
            "Epoch 39/50\n",
            "272/272 [==============================] - 0s 1ms/step - loss: 0.4558 - accuracy: 0.7904\n",
            "Epoch 40/50\n",
            "272/272 [==============================] - 0s 1ms/step - loss: 0.5024 - accuracy: 0.7574\n",
            "Epoch 41/50\n",
            "272/272 [==============================] - 0s 1ms/step - loss: 0.4341 - accuracy: 0.7978\n",
            "Epoch 42/50\n",
            "272/272 [==============================] - 0s 2ms/step - loss: 0.4749 - accuracy: 0.7537\n",
            "Epoch 43/50\n",
            "272/272 [==============================] - 0s 2ms/step - loss: 0.4742 - accuracy: 0.7794\n",
            "Epoch 44/50\n",
            "272/272 [==============================] - 0s 2ms/step - loss: 0.4716 - accuracy: 0.7684\n",
            "Epoch 45/50\n",
            "272/272 [==============================] - 0s 2ms/step - loss: 0.4629 - accuracy: 0.7978\n",
            "Epoch 46/50\n",
            "272/272 [==============================] - 0s 2ms/step - loss: 0.4598 - accuracy: 0.7831\n",
            "Epoch 47/50\n",
            "272/272 [==============================] - 0s 2ms/step - loss: 0.4417 - accuracy: 0.7941\n",
            "Epoch 48/50\n",
            "272/272 [==============================] - 0s 1ms/step - loss: 0.4874 - accuracy: 0.7426\n",
            "Epoch 49/50\n",
            "272/272 [==============================] - 0s 1ms/step - loss: 0.4605 - accuracy: 0.7831\n",
            "Epoch 50/50\n",
            "272/272 [==============================] - 0s 1ms/step - loss: 0.4634 - accuracy: 0.7757\n"
          ],
          "name": "stdout"
        },
        {
          "output_type": "execute_result",
          "data": {
            "text/plain": [
              "<tensorflow.python.keras.callbacks.History at 0x7f7259db7210>"
            ]
          },
          "metadata": {
            "tags": []
          },
          "execution_count": 15
        }
      ]
    },
    {
      "cell_type": "code",
      "metadata": {
        "colab": {
          "base_uri": "https://localhost:8080/"
        },
        "id": "Ya1bOhpvON-h",
        "outputId": "43a02997-4d54-4dfa-b8b8-8ba1cbfc4d68"
      },
      "source": [
        "test_loss, test_acc = model.evaluate(X_test, y_test)"
      ],
      "execution_count": 17,
      "outputs": [
        {
          "output_type": "stream",
          "text": [
            "1/1 [==============================] - 0s 17ms/step - loss: 0.2217 - accuracy: 1.0000\n"
          ],
          "name": "stdout"
        }
      ]
    }
  ]
}